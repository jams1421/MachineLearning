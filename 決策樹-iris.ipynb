{
  "nbformat": 4,
  "nbformat_minor": 0,
  "metadata": {
    "colab": {
      "provenance": []
    },
    "kernelspec": {
      "name": "python3",
      "display_name": "Python 3"
    },
    "language_info": {
      "name": "python"
    }
  },
  "cells": [
    {
      "cell_type": "code",
      "source": [
        "from sklearn.model_selection import train_test_split\n",
        "train_data, test_data, train_label, test_label=train_test_split(X, y, test_size=0.3, random_state=42,shuffle=True)\n",
        "print(train_data.shape)\n",
        "print(train_label.shape) \n",
        "print(test_data.shape)\n",
        "print(test_label.shape)"
      ],
      "metadata": {
        "colab": {
          "base_uri": "https://localhost:8080/"
        },
        "id": "-cb-qqnW-A4U",
        "outputId": "c4089058-3d13-4df0-cfa4-56518cacb215"
      },
      "execution_count": null,
      "outputs": [
        {
          "output_type": "stream",
          "name": "stdout",
          "text": [
            "(105, 4)\n",
            "(105,)\n",
            "(45, 4)\n",
            "(45,)\n"
          ]
        }
      ]
    },
    {
      "cell_type": "code",
      "source": [
        "from sklearn.svm import SVC\n",
        "clf=SVC(kernel='rbf',C=1,gamma='auto')\n",
        "clf.fit(train_data,train_label)\n",
        "print(\"訓練資料正確率:\",clf.score(train_data,train_label))  #訓練資料正確率"
      ],
      "metadata": {
        "colab": {
          "base_uri": "https://localhost:8080/"
        },
        "id": "sm3H_zW1MPT1",
        "outputId": "d64927e8-f0b4-4df0-9f99-5a000c21de1c"
      },
      "execution_count": null,
      "outputs": [
        {
          "output_type": "stream",
          "name": "stdout",
          "text": [
            "訓練資料正確率: 0.9904761904761905\n"
          ]
        }
      ]
    },
    {
      "cell_type": "code",
      "source": [
        "from sklearn.datasets import load_iris\n",
        "from sklearn.model_selection import train_test_split\n",
        "from sklearn.svm import SVC\n",
        "iris=load_iris()\n",
        "X=iris.data\n",
        "y=iris.target\n",
        "train_data, test_data, train_label, test_label=train_test_split(X, y, test_size=0.3, random_state=42,shuffle=True)\n",
        "clf=SVC(kernel='rbf',C=1,gamma='auto')\n",
        "clf.fit(train_data,train_label)\n",
        "print(\"訓練資料正確率:\",clf.score(train_data,train_label))  #訓練資料正確率"
      ],
      "metadata": {
        "colab": {
          "base_uri": "https://localhost:8080/"
        },
        "id": "u9G2eAWwM8VN",
        "outputId": "dbd57cdf-b484-493d-8920-a9da26eca213"
      },
      "execution_count": null,
      "outputs": [
        {
          "output_type": "stream",
          "name": "stdout",
          "text": [
            "訓練資料正確率: 0.9904761904761905\n"
          ]
        }
      ]
    },
    {
      "cell_type": "code",
      "source": [
        "#@title\n",
        "#決策樹\n",
        "from sklearn.datasets import load_iris\n",
        "from sklearn.model_selection import train_test_split\n",
        "from sklearn import tree\n",
        "#讀入鳶尾花資料\n",
        "\n",
        "iris=load_iris()\n",
        "iris_data=iris.data\n",
        "iris_label=iris.target\n",
        "\n",
        "#切分訓練與測試資料\n",
        "train_data, test_data, train_label, test_label=train_test_split(iris_data, iris_label, test_size=0.3)\n",
        "\n",
        "# 建立分類器\n",
        "clf=tree.DecisionTreeClassifier()\n",
        "clf=clf.fit(train_data,train_label)\n",
        "\n",
        "\n",
        "print(\"訓練資料正確率:\",clf.score(train_data,train_label))\n",
        "print(\"測試資料正確率:\",clf.score(test_data,test_label))\n",
        "\n",
        "predict=clf.predict(test_data) # 預測\n",
        "print(\"標準答案:\",test_label) # 標準答案\n",
        "print(\"預測答案:\",predict) # 預測答案"
      ],
      "metadata": {
        "id": "R8HTAP6nUPnM"
      },
      "execution_count": null,
      "outputs": []
    },
    {
      "cell_type": "code",
      "source": [
        "#@title\n",
        "import graphviz \n",
        "dot_data = tree.export_graphviz(clf, out_file=None) \n",
        "graph = graphviz.Source(dot_data) \n",
        "graph.render(\"iris\") #將結果存成pdf檔案"
      ],
      "metadata": {
        "id": "dtArkr_7UkvI"
      },
      "execution_count": null,
      "outputs": []
    },
    {
      "cell_type": "code",
      "source": [
        "#@title\n",
        "import pydotplus  \n",
        "from IPython.display import Image  \n",
        "dot_data = tree.export_graphviz(clf, out_file=None, \n",
        "                feature_names=iris.feature_names,\n",
        "                class_names=iris.target_names,  \n",
        "                filled=True, rounded=True,  \n",
        "                special_characters=True)  \n",
        "graph = pydotplus.graph_from_dot_data(dot_data)  \n",
        "Image(graph.create_png())  #將結果用圖形化呈現"
      ],
      "metadata": {
        "id": "1pUsvOMGUmZv"
      },
      "execution_count": null,
      "outputs": []
    }
  ]
}