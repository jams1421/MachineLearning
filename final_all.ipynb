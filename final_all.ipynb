{
  "nbformat": 4,
  "nbformat_minor": 0,
  "metadata": {
    "colab": {
      "provenance": [],
      "authorship_tag": "ABX9TyMZtvdi3OdI5Wo6xC8fFzmk",
      "include_colab_link": true
    },
    "kernelspec": {
      "name": "python3",
      "display_name": "Python 3"
    },
    "language_info": {
      "name": "python"
    }
  },
  "cells": [
    {
      "cell_type": "markdown",
      "metadata": {
        "id": "view-in-github",
        "colab_type": "text"
      },
      "source": [
        "<a href=\"https://colab.research.google.com/github/jams1421/MachineLearning/blob/main/final_all.ipynb\" target=\"_parent\"><img src=\"https://colab.research.google.com/assets/colab-badge.svg\" alt=\"Open In Colab\"/></a>"
      ]
    },
    {
      "cell_type": "code",
      "execution_count": null,
      "metadata": {
        "id": "QpWKJrdJy7DG"
      },
      "outputs": [],
      "source": [
        "from selenium import webdriver\n",
        "from selenium.webdriver.chrome.options import Options\n",
        "from selenium.webdriver.chrome.service import Service\n",
        "from selenium.webdriver.support import expected_conditions as EC\n",
        "from selenium.webdriver.support.ui import WebDriverWait\n",
        "from selenium.webdriver.common.by import By\n",
        "from fake_useragent import UserAgent\n",
        "import random\n",
        "import time"
      ]
    },
    {
      "cell_type": "code",
      "source": [
        "options = Options() \n",
        "\n",
        "ua = UserAgent()\n",
        "userAgent = ua.random\n",
        "\n",
        "options.add_argument(f'user-agent={userAgent}')\n",
        "options.add_argument('--headless')  # 非本機執行，必須啟動Headless模式\n",
        "options.add_argument('--disable-gpu') # 關閉GPU 避免某些系統或是網頁出錯\n",
        "\n",
        "service = Service()\n",
        "driver = webdriver.Chrome(service=service, options=options)\n",
        "url = 'http://120.105.96.87/register_all.html  '\n",
        "driver.get(url)"
      ],
      "metadata": {
        "id": "7NZam-1ZzHPT"
      },
      "execution_count": null,
      "outputs": []
    },
    {
      "cell_type": "code",
      "source": [
        "from selenium.webdriver.support.ui import Select\n",
        "\n",
        "myid = driver.find_element(By.NAME, \"id\")\n",
        "myid.clear()\n",
        "myid.send_keys(\"B09090073\") # 請輸入你的學號\n",
        "\n",
        "myemail = driver.find_element(By.NAME, \"email\")\n",
        "myemail.clear()\n",
        "myemail.send_keys(\"B09090073@must.edu.tw\") # 請輸入你的email\n",
        "\n",
        "passwd = driver.find_element(By.NAME, \"pwd\")\n",
        "passwd.clear()\n",
        "passwd.send_keys(\"B09090073\")  # 請輸入你要設定的登入密碼\n",
        "\n",
        "sex=driver.find_element(By.XPATH, \".//input[@type='radio' and @value='m']\")\n",
        "# value=m是男生，f是女生，s是多元\n",
        "sex.click()\n",
        "# 選完後要按下去\n",
        "\n",
        "interest=driver.find_element(By.ID, \"tv\")\n",
        "#點選興趣:看電視\n",
        "interest.click()\n",
        "# 選完後要按下去\n",
        "\n",
        "interest1=driver.find_element(By.ID, \"movie\")\n",
        "#點選興趣:看電影\n",
        "interest1.click()\n",
        "# 選完後要按下去\n",
        "\n",
        "interest2=driver.find_element(By.ID, \"bike\")\n",
        "#點選興趣:騎車\n",
        "interest2.click()\n",
        "# 選完後要按下去\n",
        "\n",
        "county =Select(driver.find_element(By.NAME,'county'))\n",
        "county.select_by_value(\"hsinchu\")\n",
        "#輸入縣市:hsinchu(新竹縣/市),taoyuan(桃園),miaoli(苗栗),other(其他)\n",
        "\n",
        "driver.get_screenshot_as_file('data5.png') # 註冊畫面\n",
        "mysubmit = WebDriverWait(driver, 5).until(EC.presence_of_element_located((By.NAME, \"submit\")))\n",
        "mysubmit.submit()\n",
        "time.sleep(1)\n",
        "driver.get_screenshot_as_file('data6.png') # 註冊結果畫面\n",
        "driver.close()"
      ],
      "metadata": {
        "id": "dzTehwxAzJkz"
      },
      "execution_count": null,
      "outputs": []
    }
  ]
}