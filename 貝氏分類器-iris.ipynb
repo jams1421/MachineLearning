{
  "nbformat": 4,
  "nbformat_minor": 0,
  "metadata": {
    "colab": {
      "provenance": []
    },
    "kernelspec": {
      "name": "python3",
      "display_name": "Python 3"
    },
    "language_info": {
      "name": "python"
    }
  },
  "cells": [
    {
      "cell_type": "code",
      "execution_count": null,
      "metadata": {
        "id": "gCDK124zZ1GU"
      },
      "outputs": [],
      "source": [
        "from sklearn.datasets import load_iris\n",
        "iris=load_iris()\n",
        "#print(iris.target_names) #分類名稱\n",
        "#print(iris.target)    #分類代碼\n",
        "#print(iris.data)     #資料\n",
        "X=iris.data\n",
        "y=iris.target"
      ]
    },
    {
      "cell_type": "code",
      "source": [
        "from sklearn.model_selection import train_test_split\n",
        "train_data, test_data, train_label, test_label=train_test_split(X, y, test_size=0.3, random_state=42,shuffle=True)\n",
        "print(train_data.shape)\n",
        "print(train_label.shape) \n",
        "print(test_data.shape)\n",
        "print(test_label.shape)"
      ],
      "metadata": {
        "colab": {
          "base_uri": "https://localhost:8080/"
        },
        "id": "-cb-qqnW-A4U",
        "outputId": "c4089058-3d13-4df0-cfa4-56518cacb215"
      },
      "execution_count": null,
      "outputs": [
        {
          "output_type": "stream",
          "name": "stdout",
          "text": [
            "(105, 4)\n",
            "(105,)\n",
            "(45, 4)\n",
            "(45,)\n"
          ]
        }
      ]
    },
    {
      "cell_type": "code",
      "source": [
        "from sklearn.svm import SVC\n",
        "clf=SVC(kernel='rbf',C=1,gamma='auto')\n",
        "clf.fit(train_data,train_label)\n",
        "print(\"訓練資料正確率:\",clf.score(train_data,train_label))  #訓練資料正確率"
      ],
      "metadata": {
        "colab": {
          "base_uri": "https://localhost:8080/"
        },
        "id": "sm3H_zW1MPT1",
        "outputId": "d64927e8-f0b4-4df0-9f99-5a000c21de1c"
      },
      "execution_count": null,
      "outputs": [
        {
          "output_type": "stream",
          "name": "stdout",
          "text": [
            "訓練資料正確率: 0.9904761904761905\n"
          ]
        }
      ]
    },
    {
      "cell_type": "code",
      "source": [
        "from sklearn.datasets import load_iris\n",
        "from sklearn.model_selection import train_test_split\n",
        "from sklearn.svm import SVC\n",
        "iris=load_iris()\n",
        "X=iris.data\n",
        "y=iris.target\n",
        "train_data, test_data, train_label, test_label=train_test_split(X, y, test_size=0.3, random_state=42,shuffle=True)\n",
        "clf=SVC(kernel='rbf',C=1,gamma='auto')\n",
        "clf.fit(train_data,train_label)\n",
        "print(\"訓練資料正確率:\",clf.score(train_data,train_label))  #訓練資料正確率"
      ],
      "metadata": {
        "colab": {
          "base_uri": "https://localhost:8080/"
        },
        "id": "u9G2eAWwM8VN",
        "outputId": "dbd57cdf-b484-493d-8920-a9da26eca213"
      },
      "execution_count": null,
      "outputs": [
        {
          "output_type": "stream",
          "name": "stdout",
          "text": [
            "訓練資料正確率: 0.9904761904761905\n"
          ]
        }
      ]
    },
    {
      "cell_type": "code",
      "source": [
        "#貝式分類器\n",
        "from sklearn.datasets import load_iris\n",
        "from sklearn.model_selection import train_test_split\n",
        "from sklearn.naive_bayes import GaussianNB\n",
        "\n",
        "iris=load_iris()\n",
        "iris_data=iris.data\n",
        "iris_label=iris.target\n",
        "train_data, test_data, train_label, test_label=train_test_split(iris_data, iris_label, test_size=0.3)\n",
        "\n",
        "clf =  GaussianNB()\n",
        "clf=clf.fit(train_data,train_label)\n",
        "\n",
        "print(\"訓練資料正確率:\",clf.score(train_data,train_label))\n",
        "print(\"測試資料正確率:\",clf.score(test_data,test_label))\n",
        "predict=clf.predict(test_data)\n",
        "print(\"標準答案:\",test_label) # 標準答案\n",
        "print(\"預測答案:\",predict) # 預測答案"
      ],
      "metadata": {
        "id": "wPIbjHLyYlvf",
        "colab": {
          "base_uri": "https://localhost:8080/"
        },
        "outputId": "0481868c-8247-41dc-b77b-9cfa9f444676"
      },
      "execution_count": null,
      "outputs": [
        {
          "output_type": "stream",
          "name": "stdout",
          "text": [
            "訓練資料正確率: 0.9523809523809523\n",
            "測試資料正確率: 0.9777777777777777\n",
            "標準答案: [1 0 2 0 2 1 2 1 0 0 2 0 0 2 1 2 0 1 0 1 1 0 0 0 1 1 1 1 2 0 1 1 2 1 1 2 1\n",
            " 2 0 0 2 0 1 1 0]\n",
            "預測答案: [1 0 2 0 2 1 2 1 0 0 2 0 0 2 1 1 0 1 0 1 1 0 0 0 1 1 1 1 2 0 1 1 2 1 1 2 1\n",
            " 2 0 0 2 0 1 1 0]\n"
          ]
        }
      ]
    }
  ]
}